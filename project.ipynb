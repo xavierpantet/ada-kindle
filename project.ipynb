{
 "cells": [
  {
   "cell_type": "code",
   "execution_count": null,
   "metadata": {},
   "outputs": [],
   "source": [
    "import pandas as pd\n",
    "\n",
    "from pyspark.sql import *\n",
    "from pyspark.sql.functions import *\n",
    "from pyspark.sql.types import StructType, StructField, IntegerType, StringType, FloatType\n",
    "import os.path\n",
    "\n",
    "spark = SparkSession.builder.getOrCreate()"
   ]
  },
  {
   "cell_type": "code",
   "execution_count": 44,
   "metadata": {},
   "outputs": [],
   "source": [
    "DATA_FOLDER = 'data/'\n",
    "RESULT_FOLDER = 'results/'\n",
    "\n",
    "RATINGS_KINDLE = 'ratings_Kindle_Store.csv'\n",
    "REVIEWS_KINDLE = 'Kindle_Store_5.json'\n",
    "RATINGS_BOOKS = 'ratings_Books.csv'\n",
    "REVIEWS_BOOKS = 'Books_5.json'\n",
    "\n",
    "BOOKS_SELECTED_USERS = 'books_selected_users.parquet'\n",
    "KINDLE_SELECTED_USERS = 'kindle_selected_users.parquet'\n",
    "\n",
    "RATINGS_SCHEMA = StructType([\n",
    "    StructField(\"User\", StringType(), True),\n",
    "    StructField(\"Asin\", IntegerType(), True),\n",
    "    StructField(\"Ratings\", FloatType(), True),\n",
    "    StructField(\"Timestamp\", IntegerType(), True)])\n",
    "\n",
    "RATINGS_USER = 0\n",
    "RATINGS_ASIN = 1\n",
    "RATINGS_RATINGS = 2\n",
    "RATINGS_TIMESTAMP = 3"
   ]
  },
  {
   "cell_type": "code",
   "execution_count": null,
   "metadata": {},
   "outputs": [],
   "source": [
    "def user_is_in(data, sel_users):\n",
    "    '''\n",
    "    Indicates if the user corresponding to a data sample belongs to the given array\n",
    "    :param : {'User', ...} tuple\n",
    "    :param : String[]\n",
    "    :return : Boolean\n",
    "    '''\n",
    "    return data['User'] in sel_users\n",
    "\n",
    "def write_parquet(df, path, force = False):\n",
    "    '''\n",
    "    Writes the given dataframe into a parquet file\n",
    "    :param : DataFrame\n",
    "    :param : String\n",
    "    :param : Boolean\n",
    "    '''\n",
    "    if os.path.isfile(path) and not force:\n",
    "        print(\"You already have an existing file with this name.\")\n",
    "        print(\"If you want to overwrite it, set force = True\")\n",
    "    else:\n",
    "        df.write.mode('overwrite').parquet(path)\n",
    "        \n",
    "def get_selected_users(regenerate = False):\n",
    "    '''\n",
    "    Return the dataframes containing the ratings on books and kindle of users who bought both type of platforms\n",
    "    :param : Boolean\n",
    "    :return : DataFrame, DataFrame\n",
    "    '''\n",
    "    books_distinct_users = df_ratings_books.select('User').distinct()\n",
    "    kindle_distinct_users = df_ratings_kindle.select('User').distinct()\n",
    "    both_users = books_distinct_users.join(kindle_distinct_users, 'User').distinct().persist()\n",
    "\n",
    "    if os.path.isfile(RESULT_FOLDER + BOOKS_SELECTED_USERS) and not regenerate:\n",
    "        books_sel_users = spark.read.parquet(RESULT_FOLDER + BOOKS_SELECTED_USERS)\n",
    "    else:\n",
    "        books_sel_users = df_ratings_books.join(both_users, 'User')\n",
    "        \n",
    "    if os.path.isfile(RESULT_FOLDER + KINDLE_SELECTED_USERS and not regenerate):\n",
    "        kindle_sel_users = spark.read.parquet(RESULT_FOLER + KINDLE_SELECTED_USERS)\n",
    "    else:\n",
    "        kindle_sel_users = df_ratings_kindle.join(both_users, 'User')\n",
    "        \n",
    "    return books_sel_users, kindle_sel_users"
   ]
  },
  {
   "cell_type": "markdown",
   "metadata": {},
   "source": [
    "# Load data"
   ]
  },
  {
   "cell_type": "code",
   "execution_count": 3,
   "metadata": {},
   "outputs": [
    {
     "data": {
      "text/plain": [
       "[Row(User=u'A2GZ9GFZV1LWB0', Asin=1603420304, Ratings=4.0, Timestamp=1405209600),\n",
       " Row(User=u'A1K7VSUDCVAPW8', Asin=1603420304, Ratings=3.0, Timestamp=1282176000),\n",
       " Row(User=u'A35J5XRE5ZT6H2', Asin=1603420304, Ratings=4.0, Timestamp=1365206400),\n",
       " Row(User=u'A3DGZNFSMNWSX5', Asin=1603420304, Ratings=4.0, Timestamp=1285632000),\n",
       " Row(User=u'A2CVDQ6H36L4VL', Asin=1603420304, Ratings=5.0, Timestamp=1342396800)]"
      ]
     },
     "execution_count": 3,
     "metadata": {},
     "output_type": "execute_result"
    }
   ],
   "source": [
    "# Ratings datasets\n",
    "\n",
    "# Kindle\n",
    "df_ratings_kindle = spark.read.csv(DATA_FOLDER + RATINGS_KINDLE, header = False, schema = RATINGS_SCHEMA)\n",
    "print(df_ratings_kindle.head(5))\n",
    "\n",
    "# Books\n",
    "df_ratings_books = spark.read.csv(DATA_FOLDER + RATINGS_BOOKS, header = False, schema = RATINGS_SCHEMA)\n",
    "print(df_ratings_books.head(5))"
   ]
  },
  {
   "cell_type": "code",
   "execution_count": 4,
   "metadata": {},
   "outputs": [
    {
     "data": {
      "text/plain": [
       "[Row(asin=u'B000F83SZQ', helpful=[0, 0], overall=5.0, reviewText=u\"I enjoy vintage books and movies so I enjoyed reading this book.  The plot was unusual.  Don't think killing someone in self-defense but leaving the scene and the body without notifying the police or hitting someone in the jaw to knock them out would wash today.Still it was a good read for me.\", reviewTime=u'05 5, 2014', reviewerID=u'A1F6404F1VG29J', reviewerName=u'Avidreader', summary=u'Nice vintage story', unixReviewTime=1399248000)]"
      ]
     },
     "execution_count": 4,
     "metadata": {},
     "output_type": "execute_result"
    }
   ],
   "source": [
    "# Reviews datasets\n",
    "\n",
    "# Kindle\n",
    "df_reviews_kindle = spark.read.json(DATA_FOLDER + REVIEWS_KINDLE)\n",
    "print(df_reviews_kindle.head(1))\n",
    "\n",
    "# Books\n",
    "df_reviews_books = spark.read.json(DATA_FOLDER + REVIEWS_BOOKS)\n",
    "df_reviews_books.head(1)"
   ]
  },
  {
   "cell_type": "markdown",
   "metadata": {},
   "source": [
    "# Basic statistics\n",
    "Compute basic statistics on both datasets to verify if any difference exists between the two (very different means of the ratings would mean that one is generally prefered to the other, and very different variances would mean that some opinions on one of the support is not as unilateral as the other)."
   ]
  },
  {
   "cell_type": "code",
   "execution_count": 46,
   "metadata": {},
   "outputs": [
    {
     "name": "stdout",
     "output_type": "stream",
     "text": [
      "-- Books -- Count : 22507155, Mean : 4.29575892644, Variance : 1.23544712428\n",
      "-- Kindle -- Count : 3205467, Mean : 4.23210689737, Variance : 1.28548661246\n"
     ]
    }
   ],
   "source": [
    "# Averages\n",
    "\n",
    "# Books\n",
    "books_ratings = df_ratings_books.select('Ratings').rdd.map(lambda x : x[0]).persist()\n",
    "books_nb_sample = books_ratings.count()\n",
    "books_average = books_ratings.mean()\n",
    "books_variance = books_ratings.variance()\n",
    "books_ratings.unpersist()\n",
    "\n",
    "# Kindle\n",
    "kindle_ratings = df_ratings_kindle.select('Ratings').rdd.map(lambda x : x[0]).persist()\n",
    "kindle_nb_sample = kindle_ratings.count()\n",
    "kindle_average = kindle_ratings.mean()\n",
    "kindle_variance = kindle_ratings.variance()\n",
    "kindle_ratings.unpersist()\n",
    "\n",
    "# Print results\n",
    "print(\"-- Books -- Count : {}, Mean : {}, Variance : {}\".format(books_nb_sample, books_average, books_variance))\n",
    "print(\"-- Kindle -- Count : {}, Mean : {}, Variance : {}\".format(kindle_nb_sample, kindle_average, kindle_variance))"
   ]
  },
  {
   "cell_type": "markdown",
   "metadata": {},
   "source": [
    "## Results\n",
    "As expected, there is no differences in the basic statistics. The means are similar as well as the variances. This means that the two supports are appreciated the same way."
   ]
  },
  {
   "cell_type": "markdown",
   "metadata": {},
   "source": [
    "# Select users who bought both Kindles and Books"
   ]
  },
  {
   "cell_type": "code",
   "execution_count": 36,
   "metadata": {},
   "outputs": [],
   "source": [
    "# Select users who bought both kindle and books\n",
    "books_distinct_users = df_ratings_books.select('User').distinct()\n",
    "kindle_distinct_users = df_ratings_kindle.select('User').distinct()\n",
    "both_users = books_distinct_users.join(kindle_distinct_users, 'User').distinct().persist()"
   ]
  },
  {
   "cell_type": "code",
   "execution_count": 40,
   "metadata": {},
   "outputs": [],
   "source": [
    "books_sel_users = df_ratings_books.join(both_users, 'User')\n",
    "kindle_sel_users = df_ratings_kindle.join(both_users, 'User')"
   ]
  },
  {
   "cell_type": "code",
   "execution_count": 45,
   "metadata": {},
   "outputs": [
    {
     "ename": "KeyboardInterrupt",
     "evalue": "",
     "output_type": "error",
     "traceback": [
      "\u001b[0;31m---------------------------------------------------------------------------\u001b[0m",
      "\u001b[0;31mKeyboardInterrupt\u001b[0m                         Traceback (most recent call last)",
      "\u001b[0;32m<ipython-input-45-a9dbba35291c>\u001b[0m in \u001b[0;36m<module>\u001b[0;34m()\u001b[0m\n\u001b[0;32m----> 1\u001b[0;31m \u001b[0mwrite_parquet\u001b[0m\u001b[0;34m(\u001b[0m\u001b[0mbooks_sel_users\u001b[0m\u001b[0;34m,\u001b[0m \u001b[0mRESULT_FOLDER\u001b[0m \u001b[0;34m+\u001b[0m \u001b[0mBOOKS_SELECTED_USERS\u001b[0m\u001b[0;34m)\u001b[0m\u001b[0;34m\u001b[0m\u001b[0m\n\u001b[0m\u001b[1;32m      2\u001b[0m \u001b[0mwrite_parquet\u001b[0m\u001b[0;34m(\u001b[0m\u001b[0mkindle_sel_users\u001b[0m\u001b[0;34m,\u001b[0m \u001b[0mRESULT_FOLDER\u001b[0m \u001b[0;34m+\u001b[0m \u001b[0mKINDLE_SELECTED_USERS\u001b[0m\u001b[0;34m)\u001b[0m\u001b[0;34m\u001b[0m\u001b[0m\n",
      "\u001b[0;32m<ipython-input-42-316bc9057297>\u001b[0m in \u001b[0;36mwrite_parquet\u001b[0;34m(df, path)\u001b[0m\n\u001b[1;32m      9\u001b[0m \u001b[0;34m\u001b[0m\u001b[0m\n\u001b[1;32m     10\u001b[0m \u001b[0;32mdef\u001b[0m \u001b[0mwrite_parquet\u001b[0m\u001b[0;34m(\u001b[0m\u001b[0mdf\u001b[0m\u001b[0;34m,\u001b[0m \u001b[0mpath\u001b[0m\u001b[0;34m)\u001b[0m\u001b[0;34m:\u001b[0m\u001b[0;34m\u001b[0m\u001b[0m\n\u001b[0;32m---> 11\u001b[0;31m     \u001b[0mdf\u001b[0m\u001b[0;34m.\u001b[0m\u001b[0mwrite\u001b[0m\u001b[0;34m.\u001b[0m\u001b[0mmode\u001b[0m\u001b[0;34m(\u001b[0m\u001b[0;34m'overwrite'\u001b[0m\u001b[0;34m)\u001b[0m\u001b[0;34m.\u001b[0m\u001b[0mparquet\u001b[0m\u001b[0;34m(\u001b[0m\u001b[0mpath\u001b[0m\u001b[0;34m)\u001b[0m\u001b[0;34m\u001b[0m\u001b[0m\n\u001b[0m",
      "\u001b[0;32m/home/goodwine/.local/lib/python2.7/site-packages/pyspark/sql/readwriter.pyc\u001b[0m in \u001b[0;36mparquet\u001b[0;34m(self, path, mode, partitionBy, compression)\u001b[0m\n\u001b[1;32m    802\u001b[0m             \u001b[0mself\u001b[0m\u001b[0;34m.\u001b[0m\u001b[0mpartitionBy\u001b[0m\u001b[0;34m(\u001b[0m\u001b[0mpartitionBy\u001b[0m\u001b[0;34m)\u001b[0m\u001b[0;34m\u001b[0m\u001b[0m\n\u001b[1;32m    803\u001b[0m         \u001b[0mself\u001b[0m\u001b[0;34m.\u001b[0m\u001b[0m_set_opts\u001b[0m\u001b[0;34m(\u001b[0m\u001b[0mcompression\u001b[0m\u001b[0;34m=\u001b[0m\u001b[0mcompression\u001b[0m\u001b[0;34m)\u001b[0m\u001b[0;34m\u001b[0m\u001b[0m\n\u001b[0;32m--> 804\u001b[0;31m         \u001b[0mself\u001b[0m\u001b[0;34m.\u001b[0m\u001b[0m_jwrite\u001b[0m\u001b[0;34m.\u001b[0m\u001b[0mparquet\u001b[0m\u001b[0;34m(\u001b[0m\u001b[0mpath\u001b[0m\u001b[0;34m)\u001b[0m\u001b[0;34m\u001b[0m\u001b[0m\n\u001b[0m\u001b[1;32m    805\u001b[0m \u001b[0;34m\u001b[0m\u001b[0m\n\u001b[1;32m    806\u001b[0m     \u001b[0;34m@\u001b[0m\u001b[0msince\u001b[0m\u001b[0;34m(\u001b[0m\u001b[0;36m1.6\u001b[0m\u001b[0;34m)\u001b[0m\u001b[0;34m\u001b[0m\u001b[0m\n",
      "\u001b[0;32m/home/goodwine/.local/lib/python2.7/site-packages/py4j/java_gateway.pyc\u001b[0m in \u001b[0;36m__call__\u001b[0;34m(self, *args)\u001b[0m\n\u001b[1;32m   1253\u001b[0m             \u001b[0mproto\u001b[0m\u001b[0;34m.\u001b[0m\u001b[0mEND_COMMAND_PART\u001b[0m\u001b[0;34m\u001b[0m\u001b[0m\n\u001b[1;32m   1254\u001b[0m \u001b[0;34m\u001b[0m\u001b[0m\n\u001b[0;32m-> 1255\u001b[0;31m         \u001b[0manswer\u001b[0m \u001b[0;34m=\u001b[0m \u001b[0mself\u001b[0m\u001b[0;34m.\u001b[0m\u001b[0mgateway_client\u001b[0m\u001b[0;34m.\u001b[0m\u001b[0msend_command\u001b[0m\u001b[0;34m(\u001b[0m\u001b[0mcommand\u001b[0m\u001b[0;34m)\u001b[0m\u001b[0;34m\u001b[0m\u001b[0m\n\u001b[0m\u001b[1;32m   1256\u001b[0m         return_value = get_return_value(\n\u001b[1;32m   1257\u001b[0m             answer, self.gateway_client, self.target_id, self.name)\n",
      "\u001b[0;32m/home/goodwine/.local/lib/python2.7/site-packages/py4j/java_gateway.pyc\u001b[0m in \u001b[0;36msend_command\u001b[0;34m(self, command, retry, binary)\u001b[0m\n\u001b[1;32m    983\u001b[0m         \u001b[0mconnection\u001b[0m \u001b[0;34m=\u001b[0m \u001b[0mself\u001b[0m\u001b[0;34m.\u001b[0m\u001b[0m_get_connection\u001b[0m\u001b[0;34m(\u001b[0m\u001b[0;34m)\u001b[0m\u001b[0;34m\u001b[0m\u001b[0m\n\u001b[1;32m    984\u001b[0m         \u001b[0;32mtry\u001b[0m\u001b[0;34m:\u001b[0m\u001b[0;34m\u001b[0m\u001b[0m\n\u001b[0;32m--> 985\u001b[0;31m             \u001b[0mresponse\u001b[0m \u001b[0;34m=\u001b[0m \u001b[0mconnection\u001b[0m\u001b[0;34m.\u001b[0m\u001b[0msend_command\u001b[0m\u001b[0;34m(\u001b[0m\u001b[0mcommand\u001b[0m\u001b[0;34m)\u001b[0m\u001b[0;34m\u001b[0m\u001b[0m\n\u001b[0m\u001b[1;32m    986\u001b[0m             \u001b[0;32mif\u001b[0m \u001b[0mbinary\u001b[0m\u001b[0;34m:\u001b[0m\u001b[0;34m\u001b[0m\u001b[0m\n\u001b[1;32m    987\u001b[0m                 \u001b[0;32mreturn\u001b[0m \u001b[0mresponse\u001b[0m\u001b[0;34m,\u001b[0m \u001b[0mself\u001b[0m\u001b[0;34m.\u001b[0m\u001b[0m_create_connection_guard\u001b[0m\u001b[0;34m(\u001b[0m\u001b[0mconnection\u001b[0m\u001b[0;34m)\u001b[0m\u001b[0;34m\u001b[0m\u001b[0m\n",
      "\u001b[0;32m/home/goodwine/.local/lib/python2.7/site-packages/py4j/java_gateway.pyc\u001b[0m in \u001b[0;36msend_command\u001b[0;34m(self, command)\u001b[0m\n\u001b[1;32m   1150\u001b[0m \u001b[0;34m\u001b[0m\u001b[0m\n\u001b[1;32m   1151\u001b[0m         \u001b[0;32mtry\u001b[0m\u001b[0;34m:\u001b[0m\u001b[0;34m\u001b[0m\u001b[0m\n\u001b[0;32m-> 1152\u001b[0;31m             \u001b[0manswer\u001b[0m \u001b[0;34m=\u001b[0m \u001b[0msmart_decode\u001b[0m\u001b[0;34m(\u001b[0m\u001b[0mself\u001b[0m\u001b[0;34m.\u001b[0m\u001b[0mstream\u001b[0m\u001b[0;34m.\u001b[0m\u001b[0mreadline\u001b[0m\u001b[0;34m(\u001b[0m\u001b[0;34m)\u001b[0m\u001b[0;34m[\u001b[0m\u001b[0;34m:\u001b[0m\u001b[0;34m-\u001b[0m\u001b[0;36m1\u001b[0m\u001b[0;34m]\u001b[0m\u001b[0;34m)\u001b[0m\u001b[0;34m\u001b[0m\u001b[0m\n\u001b[0m\u001b[1;32m   1153\u001b[0m             \u001b[0mlogger\u001b[0m\u001b[0;34m.\u001b[0m\u001b[0mdebug\u001b[0m\u001b[0;34m(\u001b[0m\u001b[0;34m\"Answer received: {0}\"\u001b[0m\u001b[0;34m.\u001b[0m\u001b[0mformat\u001b[0m\u001b[0;34m(\u001b[0m\u001b[0manswer\u001b[0m\u001b[0;34m)\u001b[0m\u001b[0;34m)\u001b[0m\u001b[0;34m\u001b[0m\u001b[0m\n\u001b[1;32m   1154\u001b[0m             \u001b[0;32mif\u001b[0m \u001b[0manswer\u001b[0m\u001b[0;34m.\u001b[0m\u001b[0mstartswith\u001b[0m\u001b[0;34m(\u001b[0m\u001b[0mproto\u001b[0m\u001b[0;34m.\u001b[0m\u001b[0mRETURN_MESSAGE\u001b[0m\u001b[0;34m)\u001b[0m\u001b[0;34m:\u001b[0m\u001b[0;34m\u001b[0m\u001b[0m\n",
      "\u001b[0;32m/usr/lib/python2.7/socket.pyc\u001b[0m in \u001b[0;36mreadline\u001b[0;34m(self, size)\u001b[0m\n\u001b[1;32m    449\u001b[0m             \u001b[0;32mwhile\u001b[0m \u001b[0mTrue\u001b[0m\u001b[0;34m:\u001b[0m\u001b[0;34m\u001b[0m\u001b[0m\n\u001b[1;32m    450\u001b[0m                 \u001b[0;32mtry\u001b[0m\u001b[0;34m:\u001b[0m\u001b[0;34m\u001b[0m\u001b[0m\n\u001b[0;32m--> 451\u001b[0;31m                     \u001b[0mdata\u001b[0m \u001b[0;34m=\u001b[0m \u001b[0mself\u001b[0m\u001b[0;34m.\u001b[0m\u001b[0m_sock\u001b[0m\u001b[0;34m.\u001b[0m\u001b[0mrecv\u001b[0m\u001b[0;34m(\u001b[0m\u001b[0mself\u001b[0m\u001b[0;34m.\u001b[0m\u001b[0m_rbufsize\u001b[0m\u001b[0;34m)\u001b[0m\u001b[0;34m\u001b[0m\u001b[0m\n\u001b[0m\u001b[1;32m    452\u001b[0m                 \u001b[0;32mexcept\u001b[0m \u001b[0merror\u001b[0m\u001b[0;34m,\u001b[0m \u001b[0me\u001b[0m\u001b[0;34m:\u001b[0m\u001b[0;34m\u001b[0m\u001b[0m\n\u001b[1;32m    453\u001b[0m                     \u001b[0;32mif\u001b[0m \u001b[0me\u001b[0m\u001b[0;34m.\u001b[0m\u001b[0margs\u001b[0m\u001b[0;34m[\u001b[0m\u001b[0;36m0\u001b[0m\u001b[0;34m]\u001b[0m \u001b[0;34m==\u001b[0m \u001b[0mEINTR\u001b[0m\u001b[0;34m:\u001b[0m\u001b[0;34m\u001b[0m\u001b[0m\n",
      "\u001b[0;31mKeyboardInterrupt\u001b[0m: "
     ]
    }
   ],
   "source": [
    "write_parquet(books_sel_users, RESULT_FOLDER + BOOKS_SELECTED_USERS)\n",
    "write_parquet(kindle_sel_users, RESULT_FOLDER + KINDLE_SELECTED_USERS)"
   ]
  }
 ],
 "metadata": {
  "kernelspec": {
   "display_name": "Python 2",
   "language": "python",
   "name": "python2"
  },
  "language_info": {
   "codemirror_mode": {
    "name": "ipython",
    "version": 2
   },
   "file_extension": ".py",
   "mimetype": "text/x-python",
   "name": "python",
   "nbconvert_exporter": "python",
   "pygments_lexer": "ipython2",
   "version": "2.7.15rc1"
  }
 },
 "nbformat": 4,
 "nbformat_minor": 2
}
