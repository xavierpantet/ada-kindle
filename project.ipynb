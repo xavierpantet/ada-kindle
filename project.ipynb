{
 "cells": [
  {
   "cell_type": "code",
   "execution_count": 2,
   "metadata": {},
   "outputs": [],
   "source": [
    "import pandas as pd\n",
    "\n",
    "from pyspark.sql import *\n",
    "from pyspark.sql.functions import *\n",
    "from pyspark.sql.types import StructType, StructField, IntegerType, StringType, FloatType\n",
    "spark = SparkSession.builder.getOrCreate()"
   ]
  },
  {
   "cell_type": "code",
   "execution_count": 4,
   "metadata": {},
   "outputs": [],
   "source": [
    "DATA_FOLDER = 'data/'\n",
    "RATINGS_KINDLE = 'ratings_Kindle_Store.csv'\n",
    "REVIEWS_KINDLE = 'Kindle_Store_5.json'\n",
    "RATINGS_BOOKS = 'ratings_Books.csv'\n",
    "REVIEWS_BOOKS = 'Books_5.json'\n",
    "\n",
    "RATINGS_SCHEMA = StructType([\n",
    "    StructField(\"User\", StringType(), True),\n",
    "    StructField(\"Asin\", IntegerType(), True),\n",
    "    StructField(\"Ratings\", FloatType(), True),\n",
    "    StructField(\"Timestamp\", IntegerType(), True)])"
   ]
  },
  {
   "cell_type": "code",
   "execution_count": 5,
   "metadata": {},
   "outputs": [
    {
     "data": {
      "text/plain": [
       "[Row(User='A2GZ9GFZV1LWB0', Asin=1603420304, Ratings=4.0, Timestamp=1405209600),\n",
       " Row(User='A1K7VSUDCVAPW8', Asin=1603420304, Ratings=3.0, Timestamp=1282176000),\n",
       " Row(User='A35J5XRE5ZT6H2', Asin=1603420304, Ratings=4.0, Timestamp=1365206400),\n",
       " Row(User='A3DGZNFSMNWSX5', Asin=1603420304, Ratings=4.0, Timestamp=1285632000),\n",
       " Row(User='A2CVDQ6H36L4VL', Asin=1603420304, Ratings=5.0, Timestamp=1342396800)]"
      ]
     },
     "execution_count": 5,
     "metadata": {},
     "output_type": "execute_result"
    }
   ],
   "source": [
    "df_ratings_kindle = spark.read.csv(DATA_FOLDER + RATINGS_KINDLE, header = False, schema = RATINGS_SCHEMA)\n",
    "df_ratings_kindle.head(5)"
   ]
  },
  {
   "cell_type": "code",
   "execution_count": 6,
   "metadata": {},
   "outputs": [
    {
     "data": {
      "text/plain": [
       "[Row(asin='B000F83SZQ', helpful=[0, 0], overall=5.0, reviewText=\"I enjoy vintage books and movies so I enjoyed reading this book.  The plot was unusual.  Don't think killing someone in self-defense but leaving the scene and the body without notifying the police or hitting someone in the jaw to knock them out would wash today.Still it was a good read for me.\", reviewTime='05 5, 2014', reviewerID='A1F6404F1VG29J', reviewerName='Avidreader', summary='Nice vintage story', unixReviewTime=1399248000)]"
      ]
     },
     "execution_count": 6,
     "metadata": {},
     "output_type": "execute_result"
    }
   ],
   "source": [
    "df_reviews_kindle = spark.read.json(DATA_FOLDER + REVIEWS_KINDLE)\n",
    "df_reviews_kindle.head(1)"
   ]
  },
  {
   "cell_type": "code",
   "execution_count": 7,
   "metadata": {},
   "outputs": [
    {
     "data": {
      "text/plain": [
       "[Row(User='AH2L9G3DQHHAJ', Asin=116, Ratings=4.0, Timestamp=1019865600),\n",
       " Row(User='A2IIIDRK3PRRZY', Asin=116, Ratings=1.0, Timestamp=1395619200),\n",
       " Row(User='A1TADCM7YWPQ8M', Asin=868, Ratings=4.0, Timestamp=1031702400),\n",
       " Row(User='AWGH7V0BDOJKB', Asin=13714, Ratings=4.0, Timestamp=1383177600),\n",
       " Row(User='A3UTQPQPM4TQO0', Asin=13714, Ratings=5.0, Timestamp=1374883200)]"
      ]
     },
     "execution_count": 7,
     "metadata": {},
     "output_type": "execute_result"
    }
   ],
   "source": [
    "df_ratings_books = spark.read.csv(DATA_FOLDER + RATINGS_BOOKS, header = False, schema = RATINGS_SCHEMA)\n",
    "df_ratings_books.head(5)"
   ]
  },
  {
   "cell_type": "code",
   "execution_count": 8,
   "metadata": {},
   "outputs": [
    {
     "data": {
      "text/plain": [
       "[Row(asin='000100039X', helpful=[0, 0], overall=5.0, reviewText='Spiritually and mentally inspiring! A book that allows you to question your morals and will help you discover who you really are!', reviewTime='12 16, 2012', reviewerID='A10000012B7CGYKOMPQ4L', reviewerName='Adam', summary='Wonderful!', unixReviewTime=1355616000)]"
      ]
     },
     "execution_count": 8,
     "metadata": {},
     "output_type": "execute_result"
    }
   ],
   "source": [
    "df_reviews_books = spark.read.json(DATA_FOLDER + REVIEWS_BOOKS)\n",
    "df_reviews_books.head(1)"
   ]
  }
 ],
 "metadata": {
  "kernelspec": {
   "display_name": "Python 3",
   "language": "python",
   "name": "python3"
  },
  "language_info": {
   "codemirror_mode": {
    "name": "ipython",
    "version": 3
   },
   "file_extension": ".py",
   "mimetype": "text/x-python",
   "name": "python",
   "nbconvert_exporter": "python",
   "pygments_lexer": "ipython3",
   "version": "3.6.6"
  }
 },
 "nbformat": 4,
 "nbformat_minor": 2
}
