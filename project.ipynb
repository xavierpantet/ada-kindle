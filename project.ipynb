{
 "cells": [
  {
   "cell_type": "code",
   "execution_count": 1,
   "metadata": {},
   "outputs": [],
   "source": [
    "import pandas as pd\n",
    "\n",
    "from pyspark.sql import *\n",
    "from pyspark.sql.functions import *\n",
    "from pyspark.sql.types import StructType, StructField, IntegerType, StringType, FloatType\n",
    "spark = SparkSession.builder.getOrCreate()"
   ]
  },
  {
   "cell_type": "code",
   "execution_count": 18,
   "metadata": {},
   "outputs": [],
   "source": [
    "DATA_FOLDER = 'data/'\n",
    "RATINGS_KINDLE = 'ratings_Kindle_Store.csv'\n",
    "REVIEWS_KINDLE = 'Kindle_Store_5.json'\n",
    "RATINGS_BOOKS = 'ratings_Books.csv'\n",
    "REVIEWS_BOOKS = 'Books_5.json'\n",
    "\n",
    "RATINGS_SCHEMA = StructType([\n",
    "    StructField(\"User\", StringType(), True),\n",
    "    StructField(\"Asin\", IntegerType(), True),\n",
    "    StructField(\"Ratings\", FloatType(), True),\n",
    "    StructField(\"Timestamp\", IntegerType(), True)])\n",
    "\n",
    "RATINGS_USER = 0\n",
    "RATINGS_ASIN = 1\n",
    "RATINGS_RATINGS = 2\n",
    "RATINGS_TIMESTAMP = 3"
   ]
  },
  {
   "cell_type": "code",
   "execution_count": 3,
   "metadata": {},
   "outputs": [
    {
     "data": {
      "text/plain": [
       "[Row(User=u'A2GZ9GFZV1LWB0', Asin=1603420304, Ratings=4.0, Timestamp=1405209600),\n",
       " Row(User=u'A1K7VSUDCVAPW8', Asin=1603420304, Ratings=3.0, Timestamp=1282176000),\n",
       " Row(User=u'A35J5XRE5ZT6H2', Asin=1603420304, Ratings=4.0, Timestamp=1365206400),\n",
       " Row(User=u'A3DGZNFSMNWSX5', Asin=1603420304, Ratings=4.0, Timestamp=1285632000),\n",
       " Row(User=u'A2CVDQ6H36L4VL', Asin=1603420304, Ratings=5.0, Timestamp=1342396800)]"
      ]
     },
     "execution_count": 3,
     "metadata": {},
     "output_type": "execute_result"
    }
   ],
   "source": [
    "df_ratings_kindle = spark.read.csv(DATA_FOLDER + RATINGS_KINDLE, header = False, schema = RATINGS_SCHEMA)\n",
    "df_ratings_kindle.head(5)"
   ]
  },
  {
   "cell_type": "code",
   "execution_count": 4,
   "metadata": {},
   "outputs": [
    {
     "data": {
      "text/plain": [
       "[Row(asin=u'B000F83SZQ', helpful=[0, 0], overall=5.0, reviewText=u\"I enjoy vintage books and movies so I enjoyed reading this book.  The plot was unusual.  Don't think killing someone in self-defense but leaving the scene and the body without notifying the police or hitting someone in the jaw to knock them out would wash today.Still it was a good read for me.\", reviewTime=u'05 5, 2014', reviewerID=u'A1F6404F1VG29J', reviewerName=u'Avidreader', summary=u'Nice vintage story', unixReviewTime=1399248000)]"
      ]
     },
     "execution_count": 4,
     "metadata": {},
     "output_type": "execute_result"
    }
   ],
   "source": [
    "df_reviews_kindle = spark.read.json(DATA_FOLDER + REVIEWS_KINDLE)\n",
    "df_reviews_kindle.head(1)"
   ]
  },
  {
   "cell_type": "code",
   "execution_count": 5,
   "metadata": {},
   "outputs": [
    {
     "data": {
      "text/plain": [
       "[Row(User=u'AH2L9G3DQHHAJ', Asin=116, Ratings=4.0, Timestamp=1019865600),\n",
       " Row(User=u'A2IIIDRK3PRRZY', Asin=116, Ratings=1.0, Timestamp=1395619200),\n",
       " Row(User=u'A1TADCM7YWPQ8M', Asin=868, Ratings=4.0, Timestamp=1031702400),\n",
       " Row(User=u'AWGH7V0BDOJKB', Asin=13714, Ratings=4.0, Timestamp=1383177600),\n",
       " Row(User=u'A3UTQPQPM4TQO0', Asin=13714, Ratings=5.0, Timestamp=1374883200)]"
      ]
     },
     "execution_count": 5,
     "metadata": {},
     "output_type": "execute_result"
    }
   ],
   "source": [
    "df_ratings_books = spark.read.csv(DATA_FOLDER + RATINGS_BOOKS, header = False, schema = RATINGS_SCHEMA)\n",
    "df_ratings_books.head(5)"
   ]
  },
  {
   "cell_type": "code",
   "execution_count": 6,
   "metadata": {},
   "outputs": [
    {
     "data": {
      "text/plain": [
       "[Row(asin=u'000100039X', helpful=[0, 0], overall=5.0, reviewText=u'Spiritually and mentally inspiring! A book that allows you to question your morals and will help you discover who you really are!', reviewTime=u'12 16, 2012', reviewerID=u'A10000012B7CGYKOMPQ4L', reviewerName=u'Adam', summary=u'Wonderful!', unixReviewTime=1355616000)]"
      ]
     },
     "execution_count": 6,
     "metadata": {},
     "output_type": "execute_result"
    }
   ],
   "source": [
    "df_reviews_books = spark.read.json(DATA_FOLDER + REVIEWS_BOOKS)\n",
    "df_reviews_books.head(1)"
   ]
  },
  {
   "cell_type": "markdown",
   "metadata": {},
   "source": [
    "## Basic statistics\n",
    "Compute basic statistics on both datasets to verify if any difference exists between the two (very different means of the ratings would mean that one is generally prefered to the other, and very different variances would mean that some opinions on one of the support is not as unilateral as the other)."
   ]
  },
  {
   "cell_type": "code",
   "execution_count": 46,
   "metadata": {},
   "outputs": [
    {
     "name": "stdout",
     "output_type": "stream",
     "text": [
      "-- Books -- Count : 22507155, Mean : 4.29575892644, Variance : 1.23544712428\n",
      "-- Kindle -- Count : 3205467, Mean : 4.23210689737, Variance : 1.28548661246\n"
     ]
    }
   ],
   "source": [
    "# Averages\n",
    "\n",
    "# Books\n",
    "books_ratings = df_ratings_books.select('Ratings').rdd.map(lambda x : x[0]).persist()\n",
    "books_nb_sample = books_ratings.count()\n",
    "books_average = books_ratings.mean()\n",
    "books_variance = books_ratings.variance()\n",
    "books_ratings.unpersist()\n",
    "\n",
    "# Kindle\n",
    "kindle_ratings = df_ratings_kindle.select('Ratings').rdd.map(lambda x : x[0]).persist()\n",
    "kindle_nb_sample = kindle_ratings.count()\n",
    "kindle_average = kindle_ratings.mean()\n",
    "kindle_variance = kindle_ratings.variance()\n",
    "kindle_ratings.unpersist()\n",
    "\n",
    "# Print results\n",
    "print(\"-- Books -- Count : {}, Mean : {}, Variance : {}\".format(books_nb_sample, books_average, books_variance))\n",
    "print(\"-- Kindle -- Count : {}, Mean : {}, Variance : {}\".format(kindle_nb_sample, kindle_average, kindle_variance))"
   ]
  },
  {
   "cell_type": "markdown",
   "metadata": {},
   "source": [
    "### Result\n",
    "As expected, there is no differences in the basic statistics. The means are similar as well as the variances. This means that the two supports are appreciated the same way."
   ]
  }
 ],
 "metadata": {
  "kernelspec": {
   "display_name": "Python 2",
   "language": "python",
   "name": "python2"
  },
  "language_info": {
   "codemirror_mode": {
    "name": "ipython",
    "version": 2
   },
   "file_extension": ".py",
   "mimetype": "text/x-python",
   "name": "python",
   "nbconvert_exporter": "python",
   "pygments_lexer": "ipython2",
   "version": "2.7.15rc1"
  }
 },
 "nbformat": 4,
 "nbformat_minor": 2
}
