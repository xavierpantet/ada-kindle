{
 "cells": [
  {
   "cell_type": "markdown",
   "metadata": {},
   "source": [
    "# ADA PROJECT - Amazon Kindle User Experience\n",
    "## MILESTONE 2\n",
    "### E. Bonvin, D. Dudzicz, X. Pantet"
   ]
  },
  {
   "cell_type": "code",
   "execution_count": 81,
   "metadata": {},
   "outputs": [],
   "source": [
    "#Imports of various library needed for the notebook\n",
    "import pandas as pd\n",
    "\n",
    "from pyspark.sql import *\n",
    "from pyspark.sql.functions import *\n",
    "from pyspark.sql.types import StructType, StructField, IntegerType, StringType, FloatType\n",
    "from pyspark.sql.functions import col\n",
    "import matplotlib.pyplot as plt\n",
    "import seaborn as snb\n",
    "import os.path\n",
    "import statistics\n",
    "\n",
    "#PySpark SQL context creation\n",
    "spark = SparkSession.builder.getOrCreate()\n",
    "sqlContext = SQLContext(spark)"
   ]
  },
  {
   "cell_type": "code",
   "execution_count": 174,
   "metadata": {},
   "outputs": [],
   "source": [
    "#Global variable definitions\n",
    "DATA_FOLDER = 'data/'\n",
    "RESULT_FOLDER = 'results/'\n",
    "\n",
    "#Name of the datasets files downloaded from http://jmcauley.ucsd.edu/data/amazon/\n",
    "RATINGS_KINDLE = 'ratings_Kindle_Store.csv'\n",
    "RATINGS_BOOKS = 'ratings_Books.csv'"
   ]
  },
  {
   "cell_type": "markdown",
   "metadata": {},
   "source": [
    "In this first milestone, we proceed to a first exploration of the data. In this analysis, we focus on the quantitive aspect of the data. For this purpose we focus on the ratings datasets from http://jmcauley.ucsd.edu/data/amazon/ of the kindle and the books. These contain all the reviews gathered by J. McAuley, C. Targett, J. Shi, A. van den Hengel but only retains the four following fields:\n",
    "- User ID: anonimized Amazon customer ID\n",
    "- Asin: The ID of the product purchased\n",
    "- Ratings: The product review rating in a 1 to 5 scale\n",
    "- Timestamp: The daytime timestamp in the UNIX timestamp format\n",
    "\n",
    "As mentionned previously, the Asin doesn't allow us to compare books and corresponding kindle ebooks. Indeed, the number cannot be compared nor infered in an easy manner. \n",
    "\n",
    "We read the report from last year course group by Lee, Jollès and Lamonato. The authors explain all the different techniques they pursued in order to be able to compare books and ebooks directly. The webscraping was unsuccesfull due to amazon bot recognition and the API provided by AWS, when purchasing an EC2 plan wasn't uncluent as well. Eventually, the comparison was made on the authors but yielded very few data (94 entries to be precise). Given this, we decided to chose another approach for our work.\n",
    "\n",
    "We decide to compare the overall user experience regarding the kindle and the classical book reading by comparing reviews by users who wrote them. Indeed, we suppose that the medium can affect the general trend in reviews of a given customer and we will try to observe it. It is doable given that the anonimized User ID is consistent throughout the whole reviews dataset including both books and kindle ebooks sub-categories which make possible joining on this field."
   ]
  },
  {
   "cell_type": "markdown",
   "metadata": {},
   "source": [
    "### Data Cleaning\n",
    "In our case the data is very consistent and well structured given the extensive work of J. McAuley et al. which means that we don't have to do very much in this step. We only focus on the ratings datasets for this part of the project given that we focus on exploratory statistics of the data and not an extensive analysis as in the case of a sentiment analysis for which we would need the complete data review set."
   ]
  },
  {
   "cell_type": "markdown",
   "metadata": {},
   "source": [
    "### Load data"
   ]
  },
  {
   "cell_type": "code",
   "execution_count": 175,
   "metadata": {},
   "outputs": [
    {
     "name": "stdout",
     "output_type": "stream",
     "text": [
      "---Kindle rating data sample---\n",
      "[Row(User='A2GZ9GFZV1LWB0', Asin='1603420304', Ratings=4.0, Timestamp=1405209600), Row(User='A1K7VSUDCVAPW8', Asin='1603420304', Ratings=3.0, Timestamp=1282176000), Row(User='A35J5XRE5ZT6H2', Asin='1603420304', Ratings=4.0, Timestamp=1365206400), Row(User='A3DGZNFSMNWSX5', Asin='1603420304', Ratings=4.0, Timestamp=1285632000), Row(User='A2CVDQ6H36L4VL', Asin='1603420304', Ratings=5.0, Timestamp=1342396800)]\n",
      "---Books rating data sample---\n",
      "[Row(User='AH2L9G3DQHHAJ', Asin='0000000116', Ratings=4.0, Timestamp=1019865600), Row(User='A2IIIDRK3PRRZY', Asin='0000000116', Ratings=1.0, Timestamp=1395619200), Row(User='A1TADCM7YWPQ8M', Asin='0000000868', Ratings=4.0, Timestamp=1031702400), Row(User='AWGH7V0BDOJKB', Asin='0000013714', Ratings=4.0, Timestamp=1383177600), Row(User='A3UTQPQPM4TQO0', Asin='0000013714', Ratings=5.0, Timestamp=1374883200)]\n"
     ]
    }
   ],
   "source": [
    "# Ratings datasets\n",
    "\n",
    "# Kindle\n",
    "df_ratings_kindle = spark.read.csv(DATA_FOLDER + RATINGS_KINDLE, header = False, schema = RATINGS_SCHEMA)\n",
    "print(\"---Kindle rating data sample---\")\n",
    "print(df_ratings_kindle.head(5))\n",
    "\n",
    "# Books\n",
    "df_ratings_books = spark.read.csv(DATA_FOLDER + RATINGS_BOOKS, header = False, schema = RATINGS_SCHEMA)\n",
    "print(\"---Books rating data sample---\")\n",
    "print(df_ratings_books.head(5))"
   ]
  },
  {
   "cell_type": "markdown",
   "metadata": {},
   "source": [
    "### General Statistics"
   ]
  },
  {
   "cell_type": "markdown",
   "metadata": {},
   "source": [
    "In order to make sure that we have enought working data we compute the number of reviews for each medium."
   ]
  },
  {
   "cell_type": "code",
   "execution_count": 9,
   "metadata": {},
   "outputs": [
    {
     "data": {
      "text/plain": [
       "3205467"
      ]
     },
     "execution_count": 9,
     "metadata": {},
     "output_type": "execute_result"
    }
   ],
   "source": [
    "#Number of kindle ratings\n",
    "num_kindle_ratings = df_ratings_kindle.count()\n",
    "num_kindle_ratings"
   ]
  },
  {
   "cell_type": "code",
   "execution_count": 10,
   "metadata": {},
   "outputs": [
    {
     "data": {
      "text/plain": [
       "22507155"
      ]
     },
     "execution_count": 10,
     "metadata": {},
     "output_type": "execute_result"
    }
   ],
   "source": [
    "#Number of kindle ratings\n",
    "num_books_ratings = df_ratings_books.count()\n",
    "num_books_ratings"
   ]
  },
  {
   "cell_type": "markdown",
   "metadata": {},
   "source": [
    "The very large number of reviews conforts us in the idea that we have sufficiently much data in order to infer general tendency in the data regarding each of the medium. But this doesn't guarantee that we indeed have enough users. We compute the number of users of each medium in the following part."
   ]
  },
  {
   "cell_type": "code",
   "execution_count": 5,
   "metadata": {},
   "outputs": [],
   "source": [
    "#We register the datasets to be used in the SQL queries in the latter parts\n",
    "\n",
    "df_ratings_kindle.registerTempTable(\"ratings_kindle\")\n",
    "df_ratings_books.registerTempTable(\"ratings_books\")"
   ]
  },
  {
   "cell_type": "code",
   "execution_count": 176,
   "metadata": {},
   "outputs": [
    {
     "data": {
      "text/plain": [
       "8026324"
      ]
     },
     "execution_count": 176,
     "metadata": {},
     "output_type": "execute_result"
    }
   ],
   "source": [
    "#Book readers\n",
    "df_books_users = spark.sql(\"\"\"SELECT DISTINCT ratings_books.User\n",
    "             FROM ratings_books\"\"\")\n",
    "num_books_users = df_books_users.count()\n",
    "\n",
    "#Number of book readers\n",
    "num_books_users"
   ]
  },
  {
   "cell_type": "code",
   "execution_count": 13,
   "metadata": {},
   "outputs": [
    {
     "data": {
      "text/plain": [
       "1406890"
      ]
     },
     "execution_count": 13,
     "metadata": {},
     "output_type": "execute_result"
    }
   ],
   "source": [
    "#Kindle readers\n",
    "df_kindle_users = spark.sql(\"\"\"SELECT DISTINCT ratings_kindle.User\n",
    "             FROM ratings_kindle\"\"\")\n",
    "num_kindle_users = df_kindle_users.count()\n",
    "\n",
    "#Number of kindle readers\n",
    "num_kindle_users"
   ]
  },
  {
   "cell_type": "markdown",
   "metadata": {},
   "source": [
    "However to have a proper comparison of the two mediums we need to compare the ratings given by the customers who actually bought both kindle ebooks and normal books. Hence, In the following, we compute number of readers using both medium."
   ]
  },
  {
   "cell_type": "code",
   "execution_count": 7,
   "metadata": {},
   "outputs": [],
   "source": [
    "#Common users ratings for both kindle and ebooks\n",
    "df_common_users = spark.sql(\"\"\"SELECT DISTINCT ratings_books.User\n",
    "             FROM ratings_books \n",
    "             WHERE ratings_books.User IN \n",
    "             (SELECT ratings_kindle.User \n",
    "             FROM ratings_kindle)\"\"\").persist()"
   ]
  },
  {
   "cell_type": "code",
   "execution_count": 15,
   "metadata": {},
   "outputs": [
    {
     "data": {
      "text/plain": [
       "1361903"
      ]
     },
     "execution_count": 15,
     "metadata": {},
     "output_type": "execute_result"
    }
   ],
   "source": [
    "num_common_users=df_common_users.count()\n",
    "\n",
    "#Number of common users to both mediums\n",
    "num_common_users"
   ]
  },
  {
   "cell_type": "markdown",
   "metadata": {},
   "source": [
    "The number of such customers which is above 1 million also gives good chances that the we will have enough data to properly compare the two mediums given the user experience of each."
   ]
  },
  {
   "cell_type": "markdown",
   "metadata": {},
   "source": [
    "Finally, we decide to use a pie chart in order to represent the number of onéy kindle users, the only physical books readers and both medium readers in order to grasp a first very overall feeling of the popularity of the new medium in term of the classical book support."
   ]
  },
  {
   "cell_type": "code",
   "execution_count": 9,
   "metadata": {},
   "outputs": [],
   "source": [
    "df_common_users.registerTempTable(\"common_users\")"
   ]
  },
  {
   "cell_type": "code",
   "execution_count": 30,
   "metadata": {},
   "outputs": [],
   "source": [
    "df_only_books = spark.sql(\"\"\"SELECT DISTINCT ratings_books.User\n",
    "             FROM ratings_books \n",
    "             MINUS\n",
    "             SELECT common_users.User\n",
    "             FROM common_users\"\"\").persist()"
   ]
  },
  {
   "cell_type": "code",
   "execution_count": 38,
   "metadata": {},
   "outputs": [
    {
     "data": {
      "text/plain": [
       "6664421"
      ]
     },
     "execution_count": 38,
     "metadata": {},
     "output_type": "execute_result"
    }
   ],
   "source": [
    "num_books_users = df_only_books.count()\n",
    "num_books_users"
   ]
  },
  {
   "cell_type": "code",
   "execution_count": 32,
   "metadata": {},
   "outputs": [],
   "source": [
    "df_only_kindle = spark.sql(\"\"\"SELECT DISTINCT ratings_kindle.User\n",
    "             FROM ratings_kindle \n",
    "             MINUS\n",
    "             SELECT common_users.User\n",
    "             FROM common_users\"\"\").persist()"
   ]
  },
  {
   "cell_type": "code",
   "execution_count": 39,
   "metadata": {},
   "outputs": [
    {
     "data": {
      "text/plain": [
       "44987"
      ]
     },
     "execution_count": 39,
     "metadata": {},
     "output_type": "execute_result"
    }
   ],
   "source": [
    "num_kindle_users = df_only_kindle.count()\n",
    "num_kindle_users"
   ]
  },
  {
   "cell_type": "code",
   "execution_count": 52,
   "metadata": {},
   "outputs": [
    {
     "data": {
      "image/png": "[encoded data removed]",
      "text/plain": [
       "<Figure size 432x288 with 1 Axes>"
      ]
     },
     "metadata": {},
     "output_type": "display_data"
    }
   ],
   "source": [
    "#Pie chart generation\n",
    "labels = 'Only Books Readers', 'Both Mediums Readers', 'Only Kindle Readers'\n",
    "sizes = [num_books_users, num_common_users, num_kindle_users]\n",
    "colors = ['gold', 'yellowgreen', 'lightcoral']\n",
    "plt.title(\"Pie Chart of the Medium User Distribution\") \n",
    "plt.pie(sizes, labels=labels, colors=colors,\n",
    "        autopct='%1.1f%%')\n",
    " \n",
    "plt.axis('equal')\n",
    "plt.show()"
   ]
  },
  {
   "cell_type": "markdown",
   "metadata": {},
   "source": [
    "We also desire to see how many reviews per each user there is. Indeed, we want to see if we have enough users who rated enough products both kinds in order to formulate later proper statistics regarding the tenedecies observed in the consumer's behaviour."
   ]
  },
  {
   "cell_type": "code",
   "execution_count": 10,
   "metadata": {},
   "outputs": [],
   "source": [
    "#Number of books ratings per user\n",
    "books_ratings_user = spark.sql(\"\"\"SELECT DISTINCT ratings_books.User, COUNT(*) AS num_ratings\n",
    "             FROM ratings_books \n",
    "             WHERE ratings_books.User IN\n",
    "             (SELECT * FROM common_users)\n",
    "             GROUP BY ratings_books.User\n",
    "             SORT BY num_ratings DESC\"\"\")"
   ]
  },
  {
   "cell_type": "code",
   "execution_count": 94,
   "metadata": {},
   "outputs": [],
   "source": [
    "#Registration of the data as a table for further SQL queries\n",
    "books_ratings_user.registerTempTable(\"books_ratings_user\")"
   ]
  },
  {
   "cell_type": "code",
   "execution_count": 31,
   "metadata": {},
   "outputs": [],
   "source": [
    "#Number of kindle ratings per user\n",
    "kindle_ratings_user = spark.sql(\"\"\"SELECT DISTINCT ratings_kindle.User, COUNT(*) AS num_ratings\n",
    "             FROM ratings_kindle \n",
    "             WHERE ratings_kindle.User IN\n",
    "             (SELECT * FROM common_users)\n",
    "             GROUP BY ratings_kindle.User\n",
    "             SORT BY num_ratings DESC\"\"\")"
   ]
  },
  {
   "cell_type": "code",
   "execution_count": 96,
   "metadata": {},
   "outputs": [],
   "source": [
    "#Registration of the data as a table for further SQL queries\n",
    "kindle_ratings_user.registerTempTable(\"kindle_ratings_user\")"
   ]
  },
  {
   "cell_type": "code",
   "execution_count": 11,
   "metadata": {},
   "outputs": [],
   "source": [
    "#Conversion to Pandas Dataframe to handle the data better\n",
    "df_books_ratings_user = books_ratings_user.toPandas()"
   ]
  },
  {
   "cell_type": "code",
   "execution_count": 33,
   "metadata": {},
   "outputs": [],
   "source": [
    "#Conversion to Pandas Dataframe to handle the data better\n",
    "df_kindle_ratings_user = kindle_ratings_user.toPandas()"
   ]
  },
  {
   "cell_type": "markdown",
   "metadata": {},
   "source": [
    "First we will plot for each of the medium, the distribution of the number of reviews per users as a histogram to grasp a general tendency in the ratings behaviours of the customers."
   ]
  },
  {
   "cell_type": "code",
   "execution_count": 12,
   "metadata": {},
   "outputs": [],
   "source": [
    "df_books_ratings_user.index = df_books_ratings_user['User']"
   ]
  },
  {
   "cell_type": "code",
   "execution_count": 34,
   "metadata": {},
   "outputs": [],
   "source": [
    "df_kindle_ratings_user.index = df_kindle_ratings_user['User']"
   ]
  },
  {
   "cell_type": "code",
   "execution_count": 13,
   "metadata": {},
   "outputs": [],
   "source": [
    "df_books_ratings_user = df_books_ratings_user.drop(['User'], axis = 1)"
   ]
  },
  {
   "cell_type": "code",
   "execution_count": 35,
   "metadata": {},
   "outputs": [],
   "source": [
    "df_kindle_ratings_user = df_kindle_ratings_user.drop(['User'], axis = 1)"
   ]
  },
  {
   "cell_type": "code",
   "execution_count": 180,
   "metadata": {},
   "outputs": [
    {
     "data": {
      "image/png": "[encoded data removed]",
      "text/plain": [
       "<Figure size 432x288 with 1 Axes>"
      ]
     },
     "metadata": {},
     "output_type": "display_data"
    }
   ],
   "source": [
    "fig, ax = plt.subplots()\n",
    "plt.title(\"[Books] Histogram of the number of customers as a function of the number of reviews\")\n",
    "plt.hist(df_books_ratings_user['num_ratings'], bins = 100)\n",
    "plt.xlabel(\"Number of Reviews\")\n",
    "plt.ylabel(\"Number of Customers\")\n",
    "ax.set_yscale('log')"
   ]
  },
  {
   "cell_type": "markdown",
   "metadata": {},
   "source": [
    "If we remove the outliers."
   ]
  },
  {
   "cell_type": "code",
   "execution_count": 181,
   "metadata": {},
   "outputs": [
    {
     "data": {
      "image/png": "[encoded data removed]",
      "text/plain": [
       "<Figure size 432x288 with 1 Axes>"
      ]
     },
     "metadata": {},
     "output_type": "display_data"
    }
   ],
   "source": [
    "non_outliers_books = df_books_ratings_user[df_books_ratings_user['num_ratings']<10000]['num_ratings']\n",
    "fig, ax = plt.subplots()\n",
    "plt.hist(non_outliers_books, bins = 100)\n",
    "plt.title(\"[Books] Histogram of the number of customers as a function of the number of reviews (with no outliers)\")\n",
    "plt.xlabel(\"Number of Reviews\")\n",
    "plt.ylabel(\"Number of Customers\")\n",
    "ax.set_yscale('log')"
   ]
  },
  {
   "cell_type": "code",
   "execution_count": 182,
   "metadata": {},
   "outputs": [
    {
     "data": {
      "image/png": "[encoded data removed]",
      "text/plain": [
       "<Figure size 432x288 with 1 Axes>"
      ]
     },
     "metadata": {},
     "output_type": "display_data"
    }
   ],
   "source": [
    "fig, ax = plt.subplots()\n",
    "plt.hist(df_kindle_ratings_user['num_ratings'], bins = 100)\n",
    "plt.title(\"[Kindle] Histogram of the number of customers as a function of the number of reviews\")\n",
    "plt.xlabel(\"Number of Reviews\")\n",
    "plt.ylabel(\"Number of Customers\")\n",
    "ax.set_yscale('log')"
   ]
  },
  {
   "cell_type": "code",
   "execution_count": 183,
   "metadata": {},
   "outputs": [
    {
     "data": {
      "image/png": "[encoded data removed]",
      "text/plain": [
       "<Figure size 432x288 with 1 Axes>"
      ]
     },
     "metadata": {},
     "output_type": "display_data"
    }
   ],
   "source": [
    "non_outliers_kindle = df_kindle_ratings_user[df_kindle_ratings_user['num_ratings']<1500]['num_ratings']\n",
    "fig, ax = plt.subplots()\n",
    "plt.hist(non_outliers_kindle, bins = 100)\n",
    "plt.title(\"[Kindle] Histogram of the number of customers as a function of the number of reviews (with no outliers)\")\n",
    "plt.xlabel(\"Number of Reviews\")\n",
    "plt.ylabel(\"Number of Customers\")\n",
    "ax.set_yscale('log')"
   ]
  },
  {
   "cell_type": "markdown",
   "metadata": {},
   "source": [
    "When the outliers are removed, we can see that the distribution is very similar in both cases of the books and the kindle ebooks which leads to the first interpration that the reviewing behaviour are pretty similar."
   ]
  },
  {
   "cell_type": "markdown",
   "metadata": {},
   "source": [
    "Let us boxplot the two number of ratings depending on the medium."
   ]
  },
  {
   "cell_type": "code",
   "execution_count": 77,
   "metadata": {},
   "outputs": [],
   "source": [
    "df_boxplot_books = df_books_ratings_user.copy()\n",
    "df_boxplot_books['Type'] = \"Book\"\n",
    "df_boxplot_books = df_boxplot_books.reset_index()\n",
    "\n",
    "df_boxplot_kindle = df_kindle_ratings_user.copy()\n",
    "df_boxplot_kindle['Type'] = \"Kindle\"\n",
    "df_boxplot_kindle = df_boxplot_kindle.reset_index()\n",
    "\n",
    "df_boxplot = df_boxplot_books.append(df_boxplot_kindle)"
   ]
  },
  {
   "cell_type": "code",
   "execution_count": 78,
   "metadata": {},
   "outputs": [
    {
     "data": {
      "image/png": "[encoded data removed]",
      "text/plain": [
       "<Figure size 432x288 with 1 Axes>"
      ]
     },
     "metadata": {},
     "output_type": "display_data"
    }
   ],
   "source": [
    "bplot = snb.boxplot(y=\"num_ratings\", x='Type', \n",
    "                 data=df_boxplot, \n",
    "                 width=0.6,\n",
    "                 palette=\"colorblind\")"
   ]
  },
  {
   "cell_type": "markdown",
   "metadata": {},
   "source": [
    "The boxplot are not very concluent, we decide then to compute the main statistical indicator for each of the dataset kindle and books."
   ]
  },
  {
   "cell_type": "code",
   "execution_count": 82,
   "metadata": {},
   "outputs": [],
   "source": [
    "num_books_review_user = df_books_ratings_user['num_ratings']\n",
    "num_kindle_review_user = df_kindle_ratings_user['num_ratings']"
   ]
  },
  {
   "cell_type": "code",
   "execution_count": 186,
   "metadata": {},
   "outputs": [
    {
     "name": "stdout",
     "output_type": "stream",
     "text": [
      "-- Books -- Mean : 6.679168780742828, Median : 2, Variance : 2917.786838323335\n"
     ]
    }
   ],
   "source": [
    "books_average = num_books_review_user.mean()\n",
    "books_variance = statistics.variance(num_books_review_user)\n",
    "books_median = statistics.median(num_books_review_user)\n",
    "print(\"-- Books -- Mean : {}, Median : {}, Variance : {}\".format(books_average, books_median, books_variance))"
   ]
  },
  {
   "cell_type": "code",
   "execution_count": 185,
   "metadata": {},
   "outputs": [
    {
     "name": "stdout",
     "output_type": "stream",
     "text": [
      "-- Kindle -- Mean : 2.318274502662818, Median : 1, Variance : 74.11748866831114\n"
     ]
    }
   ],
   "source": [
    "kindle_average = num_kindle_review_user.mean()\n",
    "kindle_variance = statistics.variance(num_kindle_review_user)\n",
    "kindle_median = statistics.median(num_kindle_review_user)\n",
    "print(\"-- Kindle -- Mean : {}, Median : {}, Variance : {}\".format(kindle_average, kindle_median, kindle_variance))"
   ]
  },
  {
   "cell_type": "markdown",
   "metadata": {},
   "source": [
    "We could conclude that books are overall more popular than kindle but is strongly biased given that we have (not yet at this point) consider the time as a variable factor. Indeed, the kindle only started in Nov 2007 and books are on amazon.com since the very beginning of the website."
   ]
  },
  {
   "cell_type": "markdown",
   "metadata": {},
   "source": [
    "We decide to compute also the percentage of kindle ebooks reviewed with respect to all the books and ebooks reviewed for an user."
   ]
  },
  {
   "cell_type": "code",
   "execution_count": 101,
   "metadata": {},
   "outputs": [],
   "source": [
    "df_diff_usage = spark.sql(\"\"\"SELECT books_ratings_user.User, \n",
    "                             kindle_ratings_user.num_ratings /\n",
    "                             (books_ratings_user.num_ratings + kindle_ratings_user.num_ratings) AS kindle_percentage\n",
    "                             FROM books_ratings_user\n",
    "                             JOIN kindle_ratings_user\n",
    "                             ON books_ratings_user.User = kindle_ratings_user.User \"\"\")"
   ]
  },
  {
   "cell_type": "code",
   "execution_count": 103,
   "metadata": {},
   "outputs": [],
   "source": [
    "df_percentage = df_diff_usage.toPandas()"
   ]
  },
  {
   "cell_type": "code",
   "execution_count": 189,
   "metadata": {},
   "outputs": [
    {
     "data": {
      "image/png": "[encoded data removed]",
      "text/plain": [
       "<Figure size 432x288 with 1 Axes>"
      ]
     },
     "metadata": {},
     "output_type": "display_data"
    }
   ],
   "source": [
    "fig, ax = plt.subplots()\n",
    "plt.title(\"Histogram of the number of users given the Kindle ebooks percentage\")\n",
    "plt.xlabel(\"Kindle percentage\")\n",
    "plt.ylabel(\"Number of customers\")\n",
    "plot = plt.hist(df_percentage[\"kindle_percentage\"], bins = 10)"
   ]
  },
  {
   "cell_type": "code",
   "execution_count": 190,
   "metadata": {},
   "outputs": [
    {
     "data": {
      "image/png": "[encoded data removed]",
      "text/plain": [
       "<Figure size 432x288 with 1 Axes>"
      ]
     },
     "metadata": {},
     "output_type": "display_data"
    }
   ],
   "source": [
    "plt.title(\"Boxplot of Kindle percentage\")\n",
    "plt.ylabel(\"Percentage\")\n",
    "bplot = snb.boxplot(y=\"kindle_percentage\", \n",
    "                 data=df_percentage, \n",
    "                 width=0.6,\n",
    "                 palette=\"colorblind\")"
   ]
  },
  {
   "cell_type": "markdown",
   "metadata": {},
   "source": [
    "### Grade ratings analysis"
   ]
  },
  {
   "cell_type": "markdown",
   "metadata": {},
   "source": [
    "Let us also analyze the quality of the reviews i.e. the given rating and not only the number to obtain another point of view on the reviews difference in the two mediums."
   ]
  },
  {
   "cell_type": "code",
   "execution_count": 128,
   "metadata": {},
   "outputs": [],
   "source": [
    "#Kindle grades\n",
    "grade_kindle = spark.sql(\"\"\"SELECT ratings_kindle.User, AVG(ratings_kindle.Ratings) AS kindle_rating\n",
    "                           FROM ratings_kindle\n",
    "                           WHERE ratings_kindle.User IN\n",
    "                           (SELECT * FROM common_users)\n",
    "                           GROUP BY ratings_kindle.User\"\"\")"
   ]
  },
  {
   "cell_type": "code",
   "execution_count": 129,
   "metadata": {},
   "outputs": [],
   "source": [
    "#Registration of the data as table for latter SQL queries\n",
    "grade_kindle.registerTempTable(\"grade_kindle\")"
   ]
  },
  {
   "cell_type": "code",
   "execution_count": 130,
   "metadata": {},
   "outputs": [],
   "source": [
    "#Books grades\n",
    "grade_books = spark.sql(\"\"\"SELECT ratings_books.User, AVG(ratings_books.Ratings) AS book_rating\n",
    "                           FROM ratings_books\n",
    "                           WHERE ratings_books.User IN\n",
    "                           (SELECT * FROM common_users)\n",
    "                           GROUP BY ratings_books.User\"\"\")"
   ]
  },
  {
   "cell_type": "code",
   "execution_count": 131,
   "metadata": {},
   "outputs": [],
   "source": [
    "#Registration of the data as table for latter SQL queries\n",
    "grade_books.registerTempTable(\"grade_books\")"
   ]
  },
  {
   "cell_type": "code",
   "execution_count": 132,
   "metadata": {},
   "outputs": [],
   "source": [
    "#Conversion to pandas dataframes\n",
    "df_grade_kindle = grade_kindle.toPandas()"
   ]
  },
  {
   "cell_type": "code",
   "execution_count": 192,
   "metadata": {},
   "outputs": [
    {
     "data": {
      "image/png": "[encoded data removed]",
      "text/plain": [
       "<Figure size 432x288 with 1 Axes>"
      ]
     },
     "metadata": {},
     "output_type": "display_data"
    }
   ],
   "source": [
    "fig, ax = plt.subplots()\n",
    "plt.title(\"[Kindle] Histogram of the number of customers as a function of the average rating grade\")\n",
    "plt.xlabel(\"Average Rating Grade\")\n",
    "plt.ylabel(\"Number of Customers\")\n",
    "plot = plt.hist(df_grade_kindle['kindle_rating'], bins = 50)"
   ]
  },
  {
   "cell_type": "code",
   "execution_count": 133,
   "metadata": {},
   "outputs": [],
   "source": [
    "df_grade_books = grade_books.toPandas()"
   ]
  },
  {
   "cell_type": "code",
   "execution_count": 194,
   "metadata": {},
   "outputs": [
    {
     "data": {
      "image/png": "[encoded data removed]",
      "text/plain": [
       "<Figure size 432x288 with 1 Axes>"
      ]
     },
     "metadata": {},
     "output_type": "display_data"
    }
   ],
   "source": [
    "fig, ax = plt.subplots()\n",
    "plt.title(\"[Books] Histogram of the number of customers as a function of the average rating grade\")\n",
    "plt.xlabel(\"Average Rating Grade\")\n",
    "plt.ylabel(\"Number of Customers\")\n",
    "plot = plt.hist(df_grade_books['book_rating'], bins = 50)"
   ]
  },
  {
   "cell_type": "markdown",
   "metadata": {},
   "source": [
    "Let us also boxplot the average grade of the rating for the kindle reviews and the books reviews."
   ]
  },
  {
   "cell_type": "code",
   "execution_count": 159,
   "metadata": {},
   "outputs": [],
   "source": [
    "df_boxplot_books = df_grade_books.copy()\n",
    "df_boxplot_books = df_boxplot_books.drop(['User'],axis=1)\n",
    "df_boxplot_books['Type'] = \"Book\"\n",
    "df_boxplot_books=df_boxplot_books.rename(columns={\"book_rating\": \"rating\"})\n",
    "df_boxplot_books = df_boxplot_books.reset_index()\n",
    "\n",
    "df_boxplot_kindle = df_grade_kindle.copy()\n",
    "df_boxplot_kindle = df_boxplot_kindle.drop(['User'],axis=1)\n",
    "df_boxplot_kindle['Type'] = \"Kindle\"\n",
    "df_boxplot_kindle=df_boxplot_kindle.rename(columns={\"kindle_rating\": \"rating\"})\n",
    "df_boxplot_kindle = df_boxplot_kindle.reset_index()\n",
    "\n",
    "df_boxplot = df_boxplot_books.append(df_boxplot_kindle)"
   ]
  },
  {
   "cell_type": "code",
   "execution_count": 161,
   "metadata": {},
   "outputs": [
    {
     "data": {
      "image/png": "[encoded data removed]",
      "text/plain": [
       "<Figure size 432x288 with 1 Axes>"
      ]
     },
     "metadata": {},
     "output_type": "display_data"
    }
   ],
   "source": [
    "bplot = snb.boxplot(y=\"rating\", x='Type', \n",
    "                 data=df_boxplot, \n",
    "                 width=0.6,\n",
    "                 palette=\"colorblind\")"
   ]
  },
  {
   "cell_type": "markdown",
   "metadata": {},
   "source": [
    "From the previous analysis, as in the previous case of the number of reviews given the medium, we don't see a very important difference in the quality of the grade given for each platform. Both score very well on average with very similar distribution of grades and similar mean."
   ]
  },
  {
   "cell_type": "markdown",
   "metadata": {},
   "source": [
    "Eventually, we also compute the difference in the average grade given the medium i.e. `kindle_average_grade - book average_grade` for each customer and get the mean and variance of it in order to obtain a high level interpretation of a tendency."
   ]
  },
  {
   "cell_type": "code",
   "execution_count": 167,
   "metadata": {},
   "outputs": [],
   "source": [
    "df_grade_diff = spark.sql(\"\"\"SELECT DISTINCT grade_books.User, kindle_rating - book_rating AS grade_diff\n",
    "                             FROM grade_books\n",
    "                             JOIN grade_kindle \n",
    "                             ON grade_books.User = grade_kindle.User\"\"\")"
   ]
  },
  {
   "cell_type": "code",
   "execution_count": 168,
   "metadata": {},
   "outputs": [],
   "source": [
    "pd_df_grade = df_grade_diff.toPandas()"
   ]
  },
  {
   "cell_type": "code",
   "execution_count": 171,
   "metadata": {},
   "outputs": [
    {
     "data": {
      "text/plain": [
       "-0.09298465338846347"
      ]
     },
     "execution_count": 171,
     "metadata": {},
     "output_type": "execute_result"
    }
   ],
   "source": [
    "mean_diff = statistics.mean(pd_df_grade[\"grade_diff\"])\n",
    "mean_diff"
   ]
  },
  {
   "cell_type": "code",
   "execution_count": 173,
   "metadata": {},
   "outputs": [
    {
     "data": {
      "text/plain": [
       "0.3735597544187338"
      ]
     },
     "execution_count": 173,
     "metadata": {},
     "output_type": "execute_result"
    }
   ],
   "source": [
    "var_diff = statistics.variance(pd_df_grade[\"grade_diff\"])\n",
    "var_diff"
   ]
  },
  {
   "cell_type": "markdown",
   "metadata": {},
   "source": [
    "Again, the difference in the grade given the customer is very small and indicates no important variation depending on the medium."
   ]
  },
  {
   "cell_type": "markdown",
   "metadata": {},
   "source": [
    "# Conclusion"
   ]
  },
  {
   "cell_type": "markdown",
   "metadata": {},
   "source": [
    "As we expected, given a first general analysis it is impossible to determine a difference in the customer opinion regarding the reading platform. The results are very similar with very small deviation one from another. It is understandable given that customer usually review the product itself i.e. the content of the book more in depth than the way it was delivered and its cover for a book or the layout of the kindle ebook. Nonetheless, these secondary factors can also play a role in the overall appreciation but at given the first tools we used it is not possible to infer much of it."
   ]
  },
  {
   "cell_type": "markdown",
   "metadata": {},
   "source": [
    "# What remains to be done, next steps"
   ]
  },
  {
   "cell_type": "markdown",
   "metadata": {},
   "source": [
    "As mentionned during our analysis, we can get more insight on the appreciation of a format if we take into account the time as a factor. Indeed, if we observe switch in platforms for a user (going from books to kindle totally), we could interpret this a preference for the later over a period of evaluation of the two mediums. The next step in our analysis will consist on including the time parameter in the equation and observe patterns among customers reading behaviour that changed over time:\n",
    "- number of books, kindle read in a given period\n",
    "- change of reading pace\n",
    "- total switch of platforms\n",
    "- comeback from a platform to another\n",
    "- increase or decrease of kindle percentage ebooks over time\n",
    "\n",
    "In addition to this, we also consider the usage of terms analysis specific to the kindle format as \"layout\",\"interactivity\", etc. to make the understanding of the kindle ebooks format more precise."
   ]
  },
  {
   "cell_type": "code",
   "execution_count": null,
   "metadata": {},
   "outputs": [],
   "source": []
  }
 ],
 "metadata": {
  "kernelspec": {
   "display_name": "Python [conda env:anaconda3]",
   "language": "python",
   "name": "conda-env-anaconda3-py"
  },
  "language_info": {
   "codemirror_mode": {
    "name": "ipython",
    "version": 3
   },
   "file_extension": ".py",
   "mimetype": "text/x-python",
   "name": "python",
   "nbconvert_exporter": "python",
   "pygments_lexer": "ipython3",
   "version": "3.6.5"
  }
 },
 "nbformat": 4,
 "nbformat_minor": 2
}
