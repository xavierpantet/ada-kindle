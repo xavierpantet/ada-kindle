{
 "cells": [
  {
   "cell_type": "code",
   "execution_count": 1,
   "metadata": {},
   "outputs": [],
   "source": [
    "import findspark\n",
    "findspark.init()\n",
    "\n",
    "import pyspark\n",
    "sc = pyspark.SparkContext()\n",
    "\n",
    "from collections import Counter\n",
    "from pyspark.mllib.clustering import LDA\n",
    "from pyspark.mllib.linalg import Vectors"
   ]
  },
  {
   "cell_type": "code",
   "execution_count": 2,
   "metadata": {},
   "outputs": [],
   "source": [
    "rdd = sc.parallelize([(0, [\"this\",  \"is\", \"a\", \"test\"]), (1, [\"this\", \"is\", \"another\", \"one\"])])"
   ]
  },
  {
   "cell_type": "code",
   "execution_count": 3,
   "metadata": {},
   "outputs": [],
   "source": [
    "def count_words(rdd):\n",
    "    def word_occurrences(l):\n",
    "        counter = dict(Counter(l))\n",
    "        return list(zip(counter.keys(), counter.values()))\n",
    "    \n",
    "    return rdd.mapValues(word_occurrences)"
   ]
  },
  {
   "cell_type": "code",
   "execution_count": 4,
   "metadata": {},
   "outputs": [],
   "source": [
    "def wordify(rdd):\n",
    "    words = list(rdd.map(lambda p: set(p[1])).reduce(lambda x, y: x | y))\n",
    "    return dict([(words[i], i) for i in range(len(words))])"
   ]
  },
  {
   "cell_type": "code",
   "execution_count": 5,
   "metadata": {},
   "outputs": [],
   "source": [
    "def LDAify(rdd, words):\n",
    "    return rdd.mapValues(lambda l: [(words[w], occurrences) for (w, occurrences) in l]).mapValues(lambda l: Vectors.sparse(len(l), dict(l))).map(lambda p: list(p))\n",
    "\n",
    "words = wordify(rdd)\n",
    "X = LDAify(count_words(rdd), words).persist()"
   ]
  },
  {
   "cell_type": "code",
   "execution_count": 6,
   "metadata": {},
   "outputs": [
    {
     "data": {
      "text/plain": [
       "[[0, SparseVector(4, {0: 1.0, 1: 1.0, 3: 1.0, 4: 1.0})],\n",
       " [1, SparseVector(4, {2: 1.0, 3: 1.0, 4: 1.0, 5: 1.0})]]"
      ]
     },
     "execution_count": 6,
     "metadata": {},
     "output_type": "execute_result"
    }
   ],
   "source": [
    "X.collect()"
   ]
  },
  {
   "cell_type": "code",
   "execution_count": 7,
   "metadata": {},
   "outputs": [],
   "source": [
    "model = LDA.train(X, k = 1)"
   ]
  },
  {
   "cell_type": "code",
   "execution_count": 8,
   "metadata": {},
   "outputs": [
    {
     "name": "stdout",
     "output_type": "stream",
     "text": [
      "Topic 1:\n",
      "    this: 25.0%\n",
      "    is: 25.0%\n",
      "    another: 12.5%\n",
      "    one: 12.5%\n"
     ]
    }
   ],
   "source": [
    "words_list = list(words)\n",
    "for w_indices, distribution in model.describeTopics():\n",
    "    print(\"Topic 1:\")\n",
    "    for w_index, percentage in zip(w_indices, distribution):\n",
    "        print(\"    \" + words_list[w_index] + \": \" + str(100*percentage) + \"%\")"
   ]
  },
  {
   "cell_type": "code",
   "execution_count": null,
   "metadata": {},
   "outputs": [],
   "source": []
  }
 ],
 "metadata": {
  "kernelspec": {
   "display_name": "Python 3",
   "language": "python",
   "name": "python3"
  },
  "language_info": {
   "codemirror_mode": {
    "name": "ipython",
    "version": 3
   },
   "file_extension": ".py",
   "mimetype": "text/x-python",
   "name": "python",
   "nbconvert_exporter": "python",
   "pygments_lexer": "ipython3",
   "version": "3.6.5"
  }
 },
 "nbformat": 4,
 "nbformat_minor": 2
}
