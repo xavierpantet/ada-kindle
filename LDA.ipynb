{
 "cells": [
  {
   "cell_type": "code",
   "execution_count": 1,
   "metadata": {},
   "outputs": [],
   "source": [
    "import findspark\n",
    "findspark.init()\n",
    "\n",
    "import pyspark\n",
    "from pyspark.sql import *\n",
    "sc = pyspark.SparkContext()\n",
    "\n",
    "from collections import Counter\n",
    "from pyspark.ml.clustering import LDA, LDAModel, DistributedLDAModel\n",
    "from pyspark.ml.linalg import Vectors\n",
    "\n",
    "import pickle as pkl\n",
    "\n",
    "spark = SparkSession.builder.getOrCreate()\n",
    "sc.setCheckpointDir('checkpoint/')\n",
    "\n",
    "STEMMIZER = \"porter\"\n",
    "RDD_FILENAME = \"stemstem.parquet\""
   ]
  },
  {
   "cell_type": "code",
   "execution_count": 2,
   "metadata": {},
   "outputs": [],
   "source": [
    "def get_rdd(filename):\n",
    "    df = spark.read.parquet(\"data/\" + filename)\n",
    "    rdd = df.rdd.zipWithIndex().map(lambda r: (r[1], r[0][\"Words\"]))\n",
    "    return sc.parallelize(rdd.take(50000))"
   ]
  },
  {
   "cell_type": "code",
   "execution_count": 3,
   "metadata": {},
   "outputs": [],
   "source": [
    "rdd = get_rdd(RDD_FILENAME)"
   ]
  },
  {
   "cell_type": "code",
   "execution_count": 4,
   "metadata": {},
   "outputs": [],
   "source": [
    "def count_words(rdd):\n",
    "    def word_occurrences(l):\n",
    "        counter = dict(Counter(l))\n",
    "        return list(zip(counter.keys(), counter.values()))\n",
    "    \n",
    "    return rdd.mapValues(word_occurrences)"
   ]
  },
  {
   "cell_type": "code",
   "execution_count": 5,
   "metadata": {},
   "outputs": [],
   "source": [
    "def wordify(rdd):\n",
    "    lower_case_set = lambda s: set(map(lambda x: x.lower(), s))\n",
    "    words = list(rdd.map(lambda p: set(p[1])).reduce(lambda x, y: lower_case_set(x) | lower_case_set(y)))\n",
    "    return dict([(words[i], i) for i in range(len(words))])"
   ]
  },
  {
   "cell_type": "code",
   "execution_count": 6,
   "metadata": {},
   "outputs": [],
   "source": [
    "def LDAify(rdd, words):\n",
    "    return rdd.mapValues(lambda l: [(words[w.lower()], occurrences) for (w, occurrences) in l]).mapValues(lambda l: Vectors.sparse(len(words), dict(l))).map(lambda p: list(p))"
   ]
  },
  {
   "cell_type": "code",
   "execution_count": 7,
   "metadata": {},
   "outputs": [],
   "source": [
    "#words = wordify(rdd)\n",
    "words = {}\n",
    "with open('data/words_' + STEMMIZER + '_lda.pickle', 'rb') as handle:\n",
    "    words = pkl.load(handle)"
   ]
  },
  {
   "cell_type": "code",
   "execution_count": 8,
   "metadata": {},
   "outputs": [],
   "source": [
    "X = LDAify(count_words(rdd), words)"
   ]
  },
  {
   "cell_type": "code",
   "execution_count": 9,
   "metadata": {},
   "outputs": [],
   "source": [
    "def format_terms(indices, weights):\n",
    "    words_list = list(words)\n",
    "    return [(words_list[index], weights[i]) for (i, index) in enumerate(indices)]"
   ]
  },
  {
   "cell_type": "code",
   "execution_count": 10,
   "metadata": {},
   "outputs": [],
   "source": [
    "def test_coefs():\n",
    "    res = []\n",
    "    for alpha in [1.01, 1.5, 2, 3]:\n",
    "        for beta in [1.01, 1.5, 2, 3]:\n",
    "            print(\"alpha = \" + str(alpha) + \" / beta = \" + str(beta))\n",
    "            lda = LDA(k = 10).setFeaturesCol(\"feature\").setMaxIter(100).setOptimizer(\"em\").setDocConcentration([float(alpha)]).setTopicConcentration(float(beta))\n",
    "            X_ = X.toDF([\"id\", \"feature\"])\n",
    "            model = lda.fit(X_)\n",
    "            res += [model.describeTopics().rdd.map(lambda r: (r[0], format_terms(r[1], r[2]))).take(10)]\n",
    "    \n",
    "    interesting_indices = []\n",
    "    for i in range(4):\n",
    "        for j in range(4):\n",
    "            for k, (_, words) in enumerate(res[4*i + j]):\n",
    "                if \"kindl\" in list(map(lambda p: p[0], words)):\n",
    "                    interesting_indices.append((4*i+j, k))"
   ]
  },
  {
   "cell_type": "code",
   "execution_count": 11,
   "metadata": {},
   "outputs": [],
   "source": [
    "# Chosen from above\n",
    "alpha = 2\n",
    "beta = 1.5"
   ]
  },
  {
   "cell_type": "code",
   "execution_count": 12,
   "metadata": {},
   "outputs": [],
   "source": [
    "#lda = LDA(k = 10).setFeaturesCol(\"feature\").setMaxIter(300).setOptimizer(\"em\").setDocConcentration([float(alpha)]).setTopicConcentration(float(beta))\n",
    "#best_model = lda.fit(X.toDF([\"id\", \"feature\"]))\n",
    "\n",
    "best_model = DistributedLDAModel.load(\"data/\" + STEMMIZER + \"_kindle_lda.parquet\")"
   ]
  },
  {
   "cell_type": "code",
   "execution_count": 13,
   "metadata": {},
   "outputs": [],
   "source": [
    "best_topic = best_model.describeTopics(best_model.vocabSize()).rdd.filter(lambda r: r[0] == 5).map(lambda r: r[2]).collect()[0]"
   ]
  },
  {
   "cell_type": "code",
   "execution_count": 14,
   "metadata": {},
   "outputs": [],
   "source": [
    "best_topic_vect = Vectors.dense(best_topic)"
   ]
  },
  {
   "cell_type": "code",
   "execution_count": 15,
   "metadata": {},
   "outputs": [],
   "source": [
    "def sim(u, v):\n",
    "    return 1 - u.dot(v)/(u.norm(2)*v.norm(2))"
   ]
  },
  {
   "cell_type": "code",
   "execution_count": 16,
   "metadata": {},
   "outputs": [],
   "source": [
    "def normalize(v):\n",
    "    return Vectors.sparse(v.size, dict(zip(v.indices, map(lambda x: x/len(words), v.values))))"
   ]
  },
  {
   "cell_type": "code",
   "execution_count": 17,
   "metadata": {},
   "outputs": [],
   "source": [
    "best_reviews = X.map(lambda r: (r[0], sim(normalize(r[1]), best_topic_vect))).filter(lambda r: r[1] > 0.999998).collectAsMap()"
   ]
  },
  {
   "cell_type": "code",
   "execution_count": 18,
   "metadata": {},
   "outputs": [],
   "source": [
    "best_asins = spark.read.parquet(\"data/\" + RDD_FILENAME).rdd.zipWithIndex().filter(lambda r: r[1] in best_reviews.keys()).map(lambda r: r[0][\"Asin\"]).collect()"
   ]
  },
  {
   "cell_type": "code",
   "execution_count": 19,
   "metadata": {},
   "outputs": [
    {
     "data": {
      "text/plain": [
       "['B00HMQVE4G',\n",
       " 'B00GR4XFPU',\n",
       " 'B00HUS1CCU',\n",
       " 'B005FCVU02',\n",
       " 'B0079UAT0A',\n",
       " 'B00K9XXA32',\n",
       " 'B005H4V4M2',\n",
       " 'B009IQNMTS',\n",
       " 'B00L19SVQ4',\n",
       " 'B00C8EUHQS',\n",
       " 'B00ASDAWUM',\n",
       " 'B00FS32GZG',\n",
       " 'B00BI4J0S0',\n",
       " 'B00JVF40C4',\n",
       " 'B008C9INNC',\n",
       " 'B00B392XIE',\n",
       " 'B004QGY35W',\n",
       " 'B00AXBK8YY',\n",
       " 'B00BPSJ0JI',\n",
       " 'B005DA0LN8',\n",
       " 'B005COO1X6',\n",
       " 'B00AFEOBZ6',\n",
       " 'B00B2K1AWO',\n",
       " 'B00I214D70',\n",
       " 'B00K31DCD8',\n",
       " 'B00AYYOSS2',\n",
       " 'B00B4ISWTS',\n",
       " 'B00DMNDTR8',\n",
       " 'B0073VIZB0',\n",
       " 'B00BC6SVY8',\n",
       " 'B00DR0B31U',\n",
       " 'B00ILKTBSI',\n",
       " 'B00BEMD8FW',\n",
       " 'B005IGBHRG',\n",
       " 'B00AV2FS36',\n",
       " 'B00BNVGUPO',\n",
       " 'B002RI9TIW',\n",
       " 'B00A94QQCI']"
      ]
     },
     "execution_count": 19,
     "metadata": {},
     "output_type": "execute_result"
    }
   ],
   "source": [
    "best_asins"
   ]
  },
  {
   "cell_type": "code",
   "execution_count": null,
   "metadata": {},
   "outputs": [],
   "source": []
  }
 ],
 "metadata": {
  "kernelspec": {
   "display_name": "Python 3",
   "language": "python",
   "name": "python3"
  },
  "language_info": {
   "codemirror_mode": {
    "name": "ipython",
    "version": 3
   },
   "file_extension": ".py",
   "mimetype": "text/x-python",
   "name": "python",
   "nbconvert_exporter": "python",
   "pygments_lexer": "ipython3",
   "version": "3.6.5"
  }
 },
 "nbformat": 4,
 "nbformat_minor": 2
}
