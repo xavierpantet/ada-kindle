{
 "cells": [
  {
   "cell_type": "code",
   "execution_count": 1,
   "metadata": {},
   "outputs": [],
   "source": [
    "import findspark\n",
    "findspark.init()\n",
    "\n",
    "import pyspark\n",
    "from pyspark.sql import *\n",
    "sc = pyspark.SparkContext()\n",
    "\n",
    "from collections import Counter\n",
    "from pyspark.mllib.clustering import LDA, LDAModel\n",
    "from pyspark.mllib.linalg import Vectors\n",
    "\n",
    "import pickle as pkl\n",
    "\n",
    "spark = SparkSession.builder.getOrCreate()\n",
    "sc.setCheckpointDir('checkpoint/')\n",
    "\n",
    "STEMMIZER = \"porter\"\n",
    "RDD_FILENAME = \"stemstem.parquet\""
   ]
  },
  {
   "cell_type": "code",
   "execution_count": 2,
   "metadata": {},
   "outputs": [],
   "source": [
    "def get_rdd(filename):\n",
    "    df = spark.read.parquet(\"data/\" + filename)\n",
    "    rdd = df.rdd.zipWithIndex().map(lambda r: (r[1], r[0][\"Words\"]))\n",
    "    return sc.parallelize(rdd.take(50000))"
   ]
  },
  {
   "cell_type": "code",
   "execution_count": 3,
   "metadata": {},
   "outputs": [],
   "source": [
    "rdd = get_rdd(RDD_FILENAME)"
   ]
  },
  {
   "cell_type": "code",
   "execution_count": 4,
   "metadata": {},
   "outputs": [],
   "source": [
    "def count_words(rdd):\n",
    "    def word_occurrences(l):\n",
    "        counter = dict(Counter(l))\n",
    "        return list(zip(counter.keys(), counter.values()))\n",
    "    \n",
    "    return rdd.mapValues(word_occurrences)"
   ]
  },
  {
   "cell_type": "code",
   "execution_count": 5,
   "metadata": {},
   "outputs": [],
   "source": [
    "def wordify(rdd):\n",
    "    lower_case_set = lambda s: set(map(lambda x: x.lower(), s))\n",
    "    words = list(rdd.map(lambda p: set(p[1])).reduce(lambda x, y: lower_case_set(x) | lower_case_set(y)))\n",
    "    return dict([(words[i], i) for i in range(len(words))])"
   ]
  },
  {
   "cell_type": "code",
   "execution_count": 6,
   "metadata": {},
   "outputs": [],
   "source": [
    "def LDAify(rdd, words):\n",
    "    return rdd.mapValues(lambda l: [(words[w.lower()], occurrences) for (w, occurrences) in l]).mapValues(lambda l: Vectors.sparse(len(l), dict(l))).map(lambda p: list(p))"
   ]
  },
  {
   "cell_type": "code",
   "execution_count": 7,
   "metadata": {},
   "outputs": [],
   "source": [
    "#words = wordify(rdd)\n",
    "words = {}\n",
    "with open('data/words_' + STEMMIZER + '_lda.pickle', 'rb') as handle:\n",
    "    words = pkl.load(handle)"
   ]
  },
  {
   "cell_type": "code",
   "execution_count": 8,
   "metadata": {},
   "outputs": [],
   "source": [
    "X = LDAify(count_words(rdd), words)"
   ]
  },
  {
   "cell_type": "code",
   "execution_count": 9,
   "metadata": {},
   "outputs": [],
   "source": [
    "#model = LDA.train(X, k = 10, maxIterations = 500, checkpointInterval = 50)\n",
    "model = LDAModel.load(sc, path = \"data/\" + STEMMIZER + \"_kindle_lda\")"
   ]
  },
  {
   "cell_type": "code",
   "execution_count": 18,
   "metadata": {},
   "outputs": [],
   "source": [
    "def print_topics(words, model):\n",
    "    words_list = list(words)\n",
    "    for w_indices, distribution in model.describeTopics():\n",
    "        print(\"Topic :\")\n",
    "        for w_index, percentage in zip(w_indices, distribution):\n",
    "            print(\"    \" + words_list[w_index] + \": \" + str(100*percentage) + \"%\")"
   ]
  },
  {
   "cell_type": "code",
   "execution_count": 30,
   "metadata": {},
   "outputs": [
    {
     "data": {
      "text/plain": [
       "227"
      ]
     },
     "execution_count": 30,
     "metadata": {},
     "output_type": "execute_result"
    }
   ],
   "source": []
  },
  {
   "cell_type": "code",
   "execution_count": null,
   "metadata": {},
   "outputs": [],
   "source": []
  }
 ],
 "metadata": {
  "kernelspec": {
   "display_name": "Python 3",
   "language": "python",
   "name": "python3"
  },
  "language_info": {
   "codemirror_mode": {
    "name": "ipython",
    "version": 3
   },
   "file_extension": ".py",
   "mimetype": "text/x-python",
   "name": "python",
   "nbconvert_exporter": "python",
   "pygments_lexer": "ipython3",
   "version": "3.6.5"
  }
 },
 "nbformat": 4,
 "nbformat_minor": 2
}
