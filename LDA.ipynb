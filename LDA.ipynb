{
 "cells": [
  {
   "cell_type": "code",
   "execution_count": 1,
   "metadata": {},
   "outputs": [],
   "source": [
    "import findspark\n",
    "findspark.init()\n",
    "\n",
    "import pyspark\n",
    "sc = pyspark.SparkContext()\n",
    "\n",
    "from collections import Counter\n",
    "from pyspark.mllib.clustering import LDA\n",
    "from pyspark.mllib.linalg import Vectors"
   ]
  },
  {
   "cell_type": "code",
   "execution_count": 2,
   "metadata": {},
   "outputs": [],
   "source": [
    "rdd = sc.parallelize([(0, [\"this\",  \"is\", \"a\", \"test\"]), (1, [\"this\", \"is\", \"another\", \"one\"])])"
   ]
  },
  {
   "cell_type": "code",
   "execution_count": 3,
   "metadata": {},
   "outputs": [],
   "source": [
    "def count_words(rdd):\n",
    "    def word_occurrences(l):\n",
    "        counter = dict(Counter(l))\n",
    "        return list(zip(counter.keys(), counter.values()))\n",
    "    \n",
    "    return rdd.mapValues(word_occurrences)"
   ]
  },
  {
   "cell_type": "code",
   "execution_count": 4,
   "metadata": {},
   "outputs": [],
   "source": [
    "def wordify(rdd):\n",
    "    words = list(rdd.map(lambda p: set(p[1])).reduce(lambda x, y: x | y))\n",
    "    return dict([(words[i], i) for i in range(len(words))])"
   ]
  },
  {
   "cell_type": "code",
   "execution_count": 5,
   "metadata": {},
   "outputs": [],
   "source": [
    "def LDAify(rdd, words):\n",
    "    return rdd.mapValues(lambda l: [(words[w], occurrences) for (w, occurrences) in l]).mapValues(lambda l: Vectors.sparse(len(l), dict(l))).map(lambda p: list(p))\n",
    "\n",
    "X = LDAify(count_words(rdd), wordify(rdd)).persist()"
   ]
  },
  {
   "cell_type": "code",
   "execution_count": 6,
   "metadata": {},
   "outputs": [
    {
     "data": {
      "text/plain": [
       "[[0, SparseVector(4, {0: 1.0, 2: 1.0, 3: 1.0, 4: 1.0})],\n",
       " [1, SparseVector(4, {1: 1.0, 3: 1.0, 4: 1.0, 5: 1.0})]]"
      ]
     },
     "execution_count": 6,
     "metadata": {},
     "output_type": "execute_result"
    }
   ],
   "source": [
    "X.collect()"
   ]
  },
  {
   "cell_type": "code",
   "execution_count": 7,
   "metadata": {},
   "outputs": [
    {
     "data": {
      "text/plain": [
       "[([4, 3, 2, 0],\n",
       "  [0.2500228842220148,\n",
       "   0.2499776121906838,\n",
       "   0.1250000033432096,\n",
       "   0.1249999858826956]),\n",
       " ([4, 3, 1, 5],\n",
       "  [0.25002347568668487,\n",
       "   0.24997542819187868,\n",
       "   0.12500049593028015,\n",
       "   0.125000411078366]),\n",
       " ([3, 4, 0, 2],\n",
       "  [0.25000969039715715,\n",
       "   0.24998775121523947,\n",
       "   0.12500090411976925,\n",
       "   0.12500080439400732]),\n",
       " ([4, 3, 5, 1],\n",
       "  [0.25000733879242626,\n",
       "   0.24999316832976062,\n",
       "   0.12499996619794299,\n",
       "   0.12499995673080885]),\n",
       " ([3, 4, 5, 1],\n",
       "  [0.25000920884261024,\n",
       "   0.24998575990139751,\n",
       "   0.12500134107049438,\n",
       "   0.1250013284282274]),\n",
       " ([3, 4, 0, 5],\n",
       "  [0.2500230516595658,\n",
       "   0.2499768956598373,\n",
       "   0.12500009935494977,\n",
       "   0.12500005071740197]),\n",
       " ([4, 3, 0, 2],\n",
       "  [0.250029535541181,\n",
       "   0.24997358415863746,\n",
       "   0.1249993741897159,\n",
       "   0.12499933939559393]),\n",
       " ([3, 4, 5, 1],\n",
       "  [0.2500133453872092,\n",
       "   0.24998511647202484,\n",
       "   0.1250005353089084,\n",
       "   0.12500039607248978]),\n",
       " ([3, 4, 1, 5],\n",
       "  [0.25000919116826,\n",
       "   0.24999015417223672,\n",
       "   0.12500038978046016,\n",
       "   0.12500025075535875]),\n",
       " ([3, 4, 2, 0],\n",
       "  [0.2500157196913196,\n",
       "   0.24999108829436975,\n",
       "   0.12499841165779949,\n",
       "   0.12499836844984068])]"
      ]
     },
     "execution_count": 7,
     "metadata": {},
     "output_type": "execute_result"
    }
   ],
   "source": [
    "LDA.train(X).describeTopics()"
   ]
  },
  {
   "cell_type": "code",
   "execution_count": null,
   "metadata": {},
   "outputs": [],
   "source": []
  }
 ],
 "metadata": {
  "kernelspec": {
   "display_name": "Python 3",
   "language": "python",
   "name": "python3"
  },
  "language_info": {
   "codemirror_mode": {
    "name": "ipython",
    "version": 3
   },
   "file_extension": ".py",
   "mimetype": "text/x-python",
   "name": "python",
   "nbconvert_exporter": "python",
   "pygments_lexer": "ipython3",
   "version": "3.6.5"
  }
 },
 "nbformat": 4,
 "nbformat_minor": 2
}
